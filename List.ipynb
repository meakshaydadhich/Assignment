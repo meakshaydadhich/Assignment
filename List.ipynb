{
 "cells": [
  {
   "cell_type": "code",
   "execution_count": 1,
   "id": "ab3e95eb",
   "metadata": {},
   "outputs": [],
   "source": [
    "# This allows us to store multiple items in a single variable"
   ]
  },
  {
   "cell_type": "code",
   "execution_count": null,
   "id": "ef37b97a",
   "metadata": {},
   "outputs": [],
   "source": [
    "#  List Items:\n",
    "#     1- Indexed\n",
    "#     2- Ordered\n",
    "#     3- Mutable\n",
    "#     4- Duplicated allowed\n",
    "#     5- Any datatype\n",
    "#     6- Mix of different data types"
   ]
  },
  {
   "cell_type": "code",
   "execution_count": 16,
   "id": "11e8ba55",
   "metadata": {},
   "outputs": [],
   "source": [
    "fruits = [\"Apple\", \"Banana\", \"Mango\", \"Kivi\", \"Gavava\"]\n",
    "number = [1,2,3,4,5,6]\n",
    "decimals = [1.2, 1.3, 3.4]\n",
    "boolen = [True, False, False, True]\n",
    "list = [\"Apple\", 1, 1.3, True]"
   ]
  },
  {
   "cell_type": "code",
   "execution_count": 20,
   "id": "9d27496b",
   "metadata": {},
   "outputs": [
    {
     "name": "stdout",
     "output_type": "stream",
     "text": [
      "['Apple', 'Banana', 'Mango', 'Kivi', 'Gavava']\n",
      "<class 'list'>\n",
      "5\n",
      "Banana is part of the list fruits \n",
      "Graps is not part of the list\n"
     ]
    }
   ],
   "source": [
    "print(fruits)        # Print the list\n",
    "print(type(fruits))  # check type of list\n",
    "print(len(fruits))   # check length of list\n",
    "\n",
    "# Checking if an item is present in the list\n",
    "if \"Banana\" in fruits:\n",
    "    print(\"Banana is part of the list fruits \")\n",
    "if \"Graps\" not in fruits:\n",
    "    print(\"Graps is not part of the list\")"
   ]
  },
  {
   "cell_type": "code",
   "execution_count": 21,
   "id": "02b84cde",
   "metadata": {},
   "outputs": [],
   "source": [
    "#  Accessing items of a list \n",
    "#     1- Indexing\n",
    "#     2- Negative Indexing \n",
    "#     3- Range of Indexes\n",
    "#     4- Range of Negative Indexing"
   ]
  },
  {
   "cell_type": "code",
   "execution_count": 22,
   "id": "29556a24",
   "metadata": {},
   "outputs": [],
   "source": [
    "# Indexing in list\n",
    "#       0  1  2  3  4    Normal Indexing \n",
    "list = [1, 2, 3, 4, 5]\n",
    "#      -5  -4 -3 -2 -1   Negative Indexing"
   ]
  },
  {
   "cell_type": "code",
   "execution_count": 39,
   "id": "d52d2e14",
   "metadata": {},
   "outputs": [
    {
     "name": "stdout",
     "output_type": "stream",
     "text": [
      "3\n",
      "4\n",
      "[2, 3]\n",
      "[3, 4]\n"
     ]
    }
   ],
   "source": [
    "print(list[2])\n",
    "print(list[-2])\n",
    "print(list[1:3])\n",
    "print(list[-3:-1])"
   ]
  },
  {
   "cell_type": "code",
   "execution_count": 46,
   "id": "c234a5cd",
   "metadata": {},
   "outputs": [
    {
     "name": "stdout",
     "output_type": "stream",
     "text": [
      "['Akshay', 'Khushhal', 'Chetan']\n",
      "['Akshay', 'Ashok', 'Khushhal', 'Chetan']\n",
      "['Akshay', 'Ashok', 'Khushhal', 'Chetan', 'Sudha', 'Kiran']\n"
     ]
    }
   ],
   "source": [
    "# Adding Elements to a list \n",
    "name = [\"Akshay\", \"Khushhal\"]\n",
    "\n",
    "#     1- append()    --> add item to the end of the list \n",
    "name.append(\"Chetan\")\n",
    "print(name)\n",
    "\n",
    "#     2- insert()    --> add item at given indexed value \n",
    "name.insert(1, \"Ashok\")\n",
    "print(name)\n",
    "\n",
    "#     3- extend()    -->\n",
    "more_name = [\"Sudha\", \"Kiran\"]\n",
    "name.extend(more_name)\n",
    "print(name)"
   ]
  },
  {
   "cell_type": "code",
   "execution_count": 52,
   "id": "c901bba6",
   "metadata": {},
   "outputs": [
    {
     "name": "stdout",
     "output_type": "stream",
     "text": [
      "[1, 2, 4, 5, 6]\n",
      "[1, 2, 5, 6]\n",
      "6\n",
      "[1, 2, 5]\n",
      "[1, 2, 5]\n"
     ]
    }
   ],
   "source": [
    "# Removing elements from a list \n",
    "numbers = [1,2,3,4,5,6]\n",
    "#     1- remove()    --> Remove specified item from the list\n",
    "numbers.remove(3)\n",
    "print(numbers)\n",
    "\n",
    "#     2- pop()       --> Remove item at given index or last item\n",
    "numbers.pop(2)\n",
    "print(numbers)\n",
    "print(numbers.pop())\n",
    "print(numbers)\n",
    "number.pop()\n",
    "print(numbers)"
   ]
  },
  {
   "cell_type": "code",
   "execution_count": 54,
   "id": "7a99f66c",
   "metadata": {},
   "outputs": [
    {
     "name": "stdout",
     "output_type": "stream",
     "text": [
      "[10, 20, 50, 40]\n",
      "[10, 'Akshay', 'Dadhich', 40]\n"
     ]
    }
   ],
   "source": [
    "# Changing items in a list\n",
    "num = [10, 20, 30, 40]\n",
    "#   1- At an Index\n",
    "num[2] = 50\n",
    "print(num)\n",
    "\n",
    "#   2- In a range\n",
    "num[1:3] = [\"Akshay\", \"Dadhich\"]\n",
    "print(num)"
   ]
  },
  {
   "cell_type": "code",
   "execution_count": 56,
   "id": "a648907c",
   "metadata": {},
   "outputs": [
    {
     "name": "stdout",
     "output_type": "stream",
     "text": [
      "[10, 20, 30, 40, 50]\n",
      "[50, 40, 30, 20, 10]\n"
     ]
    }
   ],
   "source": [
    "# Sorting a list\n",
    "num1 =  [10, 30, 50, 20, 40]\n",
    "#    1- Ascending\n",
    "num1.sort()  # By default in Ascending order\n",
    "print(num1)\n",
    "\n",
    "#    2- Descending\n",
    "num1.sort(reverse=True)  # Sort in Descending order\n",
    "print(num1)"
   ]
  },
  {
   "cell_type": "code",
   "execution_count": 57,
   "id": "3859711d",
   "metadata": {},
   "outputs": [],
   "source": [
    "# List Comprehension \n",
    "#     When we want to make a new list form items of an existing list"
   ]
  },
  {
   "cell_type": "code",
   "execution_count": 64,
   "id": "4b3e510e",
   "metadata": {},
   "outputs": [
    {
     "name": "stdout",
     "output_type": "stream",
     "text": [
      "['Banana', 'Mango', 'Gavava']\n"
     ]
    }
   ],
   "source": [
    "list = [\"Apple\", \"Banana\", \"Mango\", \"Kivi\", \"Gavava\"]\n",
    "new_fruits = [Fruit for Fruit in list if \"a\" in Fruit]\n",
    "print(new_fruits)"
   ]
  },
  {
   "cell_type": "code",
   "execution_count": 65,
   "id": "348fc105",
   "metadata": {},
   "outputs": [
    {
     "name": "stdout",
     "output_type": "stream",
     "text": [
      "['Apple', 'Banana', 'Mango', 'Kivi', 'Gavava']\n"
     ]
    }
   ],
   "source": [
    "# Copy a list\n",
    "new_fruit1 = list.copy()\n",
    "print(new_fruit1)"
   ]
  },
  {
   "cell_type": "code",
   "execution_count": 66,
   "id": "d5002ee2",
   "metadata": {},
   "outputs": [
    {
     "name": "stdout",
     "output_type": "stream",
     "text": [
      "['Apple', 'Banana', 'Mango', 'Kivi', 'Gavava', 'Apple', 'Banana', 'Mango', 'Kivi', 'Gavava']\n"
     ]
    }
   ],
   "source": [
    "# Concatinate the list\n",
    "new_fruit1 = list + new_fruit1\n",
    "print(new_fruit1)"
   ]
  },
  {
   "cell_type": "code",
   "execution_count": 67,
   "id": "72b8ddaf",
   "metadata": {},
   "outputs": [
    {
     "name": "stdout",
     "output_type": "stream",
     "text": [
      "['Apple', 'Banana', [20, 30, 40], 'Mango', 'Kivi', 'Gavava']\n"
     ]
    }
   ],
   "source": [
    "# Nested list\n",
    "list.insert(2,[20,30,40])\n",
    "print(list)"
   ]
  },
  {
   "cell_type": "code",
   "execution_count": 81,
   "id": "954ffce6",
   "metadata": {},
   "outputs": [
    {
     "name": "stdout",
     "output_type": "stream",
     "text": [
      "[19, 65, 23, 90]\n"
     ]
    }
   ],
   "source": [
    "# Question 1\n",
    "list1 = [23, 65, 19, 90]\n",
    "temp = list1[0]\n",
    "list1[0] = list1[2]                                 # Noob level\n",
    "list1[2] = temp\n",
    "print(list1)"
   ]
  },
  {
   "cell_type": "code",
   "execution_count": 83,
   "id": "b2af6f54",
   "metadata": {},
   "outputs": [
    {
     "name": "stdout",
     "output_type": "stream",
     "text": [
      "Enter value of n: 4\n",
      "10\n",
      "20\n",
      "30\n",
      "40\n",
      "Enter index1: 0\n",
      "Enter index2: 2\n",
      "[30, 20, 10, 40]\n"
     ]
    }
   ],
   "source": [
    "n = int(input(\"Enter value of n: \"))\n",
    "list = []\n",
    "for _ in range(n):\n",
    "    num = int(input())                               # Pro level\n",
    "    list.append(num)\n",
    "print(list)\n",
    "\n",
    "idx1 = int(input(\"Enter index1: \"))\n",
    "idx2 = int(input(\"Enter index2: \"))\n",
    "\n",
    "# Swaping Values at idx 1 and idx 2\n",
    "temp = list[idx1]\n",
    "list[idx1] = list[idx2] \n",
    "list[idx2] = temp\n",
    "\n",
    "print(list)\n",
    "    "
   ]
  },
  {
   "cell_type": "code",
   "execution_count": null,
   "id": "cb952d4f",
   "metadata": {},
   "outputs": [],
   "source": []
  },
  {
   "cell_type": "code",
   "execution_count": null,
   "id": "4eb465d8",
   "metadata": {},
   "outputs": [],
   "source": []
  }
 ],
 "metadata": {
  "kernelspec": {
   "display_name": "Python 3 (ipykernel)",
   "language": "python",
   "name": "python3"
  },
  "language_info": {
   "codemirror_mode": {
    "name": "ipython",
    "version": 3
   },
   "file_extension": ".py",
   "mimetype": "text/x-python",
   "name": "python",
   "nbconvert_exporter": "python",
   "pygments_lexer": "ipython3",
   "version": "3.10.9"
  }
 },
 "nbformat": 4,
 "nbformat_minor": 5
}
